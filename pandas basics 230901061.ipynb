{
 "cells": [
  {
   "cell_type": "code",
   "execution_count": 4,
   "id": "44c96ccf",
   "metadata": {},
   "outputs": [
    {
     "name": "stdout",
     "output_type": "stream",
     "text": [
      "Empty DataFrame\n",
      "Columns: []\n",
      "Index: []\n"
     ]
    }
   ],
   "source": [
    "#pandas\n",
    "import pandas as pd\n",
    "df=pd.DataFrame()\n",
    "print(df)"
   ]
  },
  {
   "cell_type": "code",
   "execution_count": 10,
   "id": "1dc18de8",
   "metadata": {},
   "outputs": [
    {
     "name": "stdout",
     "output_type": "stream",
     "text": [
      "\n",
      "Series to DataFrame\n",
      "\n",
      "       Emp  ID\n",
      "0    udaya  10\n",
      "1  Mathosh  20\n",
      "2    krish  30\n",
      "3   Aksaya  40\n"
     ]
    }
   ],
   "source": [
    "import pandas as pd\n",
    "emp=pd.Series(['udaya','Mathosh','krish','Aksaya'])\n",
    "id=pd.Series([10,20,30,40])\n",
    "frame={'Emp':emp,'ID':id}\n",
    "result=pd.DataFrame(frame)\n",
    "print(\"\\nSeries to DataFrame\\n\")\n",
    "print(result)"
   ]
  },
  {
   "cell_type": "code",
   "execution_count": 11,
   "id": "d71917b3",
   "metadata": {},
   "outputs": [
    {
     "name": "stdout",
     "output_type": "stream",
     "text": [
      "\n",
      " Extracting the second row \n",
      "\n",
      "0      udaya\n",
      "1    Mathosh\n",
      "2      krish\n",
      "3     Aksaya\n",
      "Name: Emp, dtype: object\n"
     ]
    }
   ],
   "source": [
    "#excration\n",
    "print(\"\\n Extracting the second row \\n\")\n",
    "print(result['Emp'])"
   ]
  },
  {
   "cell_type": "code",
   "execution_count": 13,
   "id": "4a994143",
   "metadata": {},
   "outputs": [
    {
     "name": "stdout",
     "output_type": "stream",
     "text": [
      "       Emp  ID  Age\n",
      "0    udaya  10   20\n",
      "1  Mathosh  20   18\n",
      "2    krish  30   30\n",
      "3   Aksaya  40   50\n"
     ]
    }
   ],
   "source": [
    "#adding a new colomn\n",
    "result['Age']=pd.Series([20,18,30,50])\n",
    "print(result)"
   ]
  },
  {
   "cell_type": "code",
   "execution_count": 14,
   "id": "98adf4f8",
   "metadata": {},
   "outputs": [
    {
     "name": "stdout",
     "output_type": "stream",
     "text": [
      "       Emp  ID\n",
      "0    udaya  10\n",
      "1  Mathosh  20\n",
      "2    krish  30\n",
      "3   Aksaya  40\n"
     ]
    }
   ],
   "source": [
    "#delete exist colomn\n",
    "del result['Age']\n",
    "print(result)"
   ]
  },
  {
   "cell_type": "code",
   "execution_count": 17,
   "id": "0c798007",
   "metadata": {},
   "outputs": [
    {
     "name": "stdout",
     "output_type": "stream",
     "text": [
      "Slice Row\n",
      "        Emp  ID\n",
      "1  Mathosh  20\n",
      "2    krish  30\n"
     ]
    }
   ],
   "source": [
    "#slicing \n",
    "print(\"Slice Row\\n\",result[1:3])"
   ]
  },
  {
   "cell_type": "code",
   "execution_count": 18,
   "id": "fe2f3e37",
   "metadata": {},
   "outputs": [
    {
     "name": "stdout",
     "output_type": "stream",
     "text": [
      "\n",
      " Extracting the second \n",
      "\n",
      "Emp    Mathosh\n",
      "ID          20\n",
      "Name: 1, dtype: object\n"
     ]
    }
   ],
   "source": [
    "#location\n",
    "print(\"\\n Extracting the second \\n\")\n",
    "print(result.loc[1])"
   ]
  },
  {
   "cell_type": "code",
   "execution_count": 20,
   "id": "c4b41111",
   "metadata": {},
   "outputs": [
    {
     "name": "stdout",
     "output_type": "stream",
     "text": [
      "\n",
      " Adding new row values \n",
      "\n",
      "        Emp  ID\n",
      "0    udaya  10\n",
      "1  Mathosh  20\n",
      "2    krish  30\n",
      "3   Aksaya  40\n",
      "0    udaya  10\n",
      "1  Mathosh  20\n"
     ]
    }
   ],
   "source": [
    "#concadinatin\n",
    "a2=pd.DataFrame([['udaya',10],['Mathosh',20]],columns=['Emp','ID'])\n",
    "print(\"\\n Adding new row values \\n\\n\",pd.concat([result,a2]))"
   ]
  },
  {
   "cell_type": "code",
   "execution_count": 23,
   "id": "125dbf7a",
   "metadata": {},
   "outputs": [
    {
     "name": "stdout",
     "output_type": "stream",
     "text": [
      "       Emp  ID\n",
      "0    udaya  10\n",
      "1  Mathosh  20\n",
      "3   Aksaya  40\n"
     ]
    }
   ],
   "source": [
    "#delete row\n",
    "print(result.drop(2))"
   ]
  },
  {
   "cell_type": "code",
   "execution_count": null,
   "id": "d43f218e",
   "metadata": {},
   "outputs": [],
   "source": [
    "d"
   ]
  }
 ],
 "metadata": {
  "kernelspec": {
   "display_name": "Python 3 (ipykernel)",
   "language": "python",
   "name": "python3"
  },
  "language_info": {
   "codemirror_mode": {
    "name": "ipython",
    "version": 3
   },
   "file_extension": ".py",
   "mimetype": "text/x-python",
   "name": "python",
   "nbconvert_exporter": "python",
   "pygments_lexer": "ipython3",
   "version": "3.11.4"
  }
 },
 "nbformat": 4,
 "nbformat_minor": 5
}
