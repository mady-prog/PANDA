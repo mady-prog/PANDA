{
 "cells": [
  {
   "cell_type": "code",
   "execution_count": 1,
   "id": "8a8f4467",
   "metadata": {},
   "outputs": [
    {
     "name": "stdout",
     "output_type": "stream",
     "text": [
      "\n",
      " Original DataFrame:\n",
      "    s  R\n",
      "0  3  9\n",
      "1  3  9\n",
      "2  3  9\n",
      "3  3  9\n",
      "\n",
      " Square root:\n",
      "           s    R\n",
      "0  1.732051  3.0\n",
      "1  1.732051  3.0\n",
      "2  1.732051  3.0\n",
      "3  1.732051  3.0\n",
      "\n",
      " Sum of each columns:\n",
      " s    12\n",
      "R    36\n",
      "dtype: int64\n",
      "\n",
      " Sum of each row:\n",
      " 0    12\n",
      "1    12\n",
      "2    12\n",
      "3    12\n",
      "dtype: int64\n"
     ]
    }
   ],
   "source": [
    "import pandas as pd\n",
    "import numpy as np\n",
    "info=pd.DataFrame([[3,9]]*4,columns=['s','R'])\n",
    "print(\"\\n Original DataFrame:\\n\",info)\n",
    "print(\"\\n Square root:\\n\",info.apply(np.sqrt))\n",
    "print(\"\\n Sum of each columns:\\n\",info.apply(np.sum,axis=0))\n",
    "print(\"\\n Sum of each row:\\n\",info.apply(np.sum,axis=1))"
   ]
  },
  {
   "cell_type": "code",
   "execution_count": 2,
   "id": "9cb2cd92",
   "metadata": {},
   "outputs": [
    {
     "name": "stdout",
     "output_type": "stream",
     "text": [
      "   X  Y  Z\n",
      "0  2  4  6\n",
      "1  1  3  5\n",
      "2  5  8  7\n",
      "     X  Y  Z\n",
      "min  1  3  5\n",
      "max  5  8  7\n"
     ]
    }
   ],
   "source": [
    "import pandas as pd\n",
    "import numpy as np\n",
    "info=pd.DataFrame([[2,4,6],[1,3,5],[5,8,7]],columns=['X','Y','Z'])\n",
    "print(info)\n",
    "print(info.agg(['min','max']))\n"
   ]
  },
  {
   "cell_type": "code",
   "execution_count": 3,
   "id": "727caefb",
   "metadata": {},
   "outputs": [
    {
     "name": "stdout",
     "output_type": "stream",
     "text": [
      "  EmpName   Id\n",
      "0     Sai   99\n",
      "1     Poo  100\n",
      "\n",
      " Adding new column:\n",
      "   EmpName   Id  Age\n",
      "0     Sai   99   20\n",
      "1     Poo  100   18\n",
      "\n",
      " Adding new column:\n",
      "   EmpName   Id  Age     Sex\n",
      "0     Sai   99   20    male\n",
      "1     Poo  100   18  Female\n"
     ]
    }
   ],
   "source": [
    "import pandas as pd\n",
    "import numpy as np\n",
    "d2=pd.DataFrame([['Sai',99],['Poo',100]],columns=['EmpName','Id'])\n",
    "print(d2)\n",
    "d2['Age']=[20,18]\n",
    "print(\"\\n Adding new column:\\n\",d2)\n",
    "d2['Sex']=['male','Female']\n",
    "print(\"\\n Adding new column:\\n\",d2)"
   ]
  },
  {
   "cell_type": "code",
   "execution_count": 4,
   "id": "d30b2966",
   "metadata": {},
   "outputs": [
    {
     "name": "stdout",
     "output_type": "stream",
     "text": [
      "       col1      col2\n",
      "3 -1.292012  1.005195\n",
      "2  2.159276  2.345519\n",
      "0  0.353684 -0.210024\n",
      "4 -0.882602  0.319480\n",
      "1  0.004401  0.770469\n",
      "       col1      col2\n",
      "0  0.353684 -0.210024\n",
      "1  0.004401  0.770469\n",
      "2  2.159276  2.345519\n",
      "3 -1.292012  1.005195\n",
      "4 -0.882602  0.319480\n",
      "       col1      col2\n",
      "0  0.353684 -0.210024\n",
      "4 -0.882602  0.319480\n",
      "1  0.004401  0.770469\n",
      "3 -1.292012  1.005195\n",
      "2  2.159276  2.345519\n"
     ]
    }
   ],
   "source": [
    "import pandas as pd\n",
    "import numpy as np\n",
    "info=pd.DataFrame(np.random.randn(5,2),index=[3,2,0,4,1],columns=['col1','col2'])\n",
    "print(info)\n",
    "info2=info.sort_index()\n",
    "print(info2)\n",
    "info3=info2.sort_values(by=\"col2\")\n",
    "print(info3)"
   ]
  },
  {
   "cell_type": "code",
   "execution_count": 6,
   "id": "dac9df74",
   "metadata": {},
   "outputs": [
    {
     "name": "stdout",
     "output_type": "stream",
     "text": [
      "   id   Name   Sub\n",
      "0   1  Apple  sub1\n",
      "1   2   Ball  sub2\n",
      "2   3    Cat  sub4\n",
      "3   4    Dog  sub3\n",
      "   id     Name   Sub\n",
      "0   1   Winter  sub2\n",
      "1   2   Summer  sub4\n",
      "2   3  Monsoon  sub3\n",
      "3   4   Spring  sub5\n",
      "   id Name_x Sub_x   Name_y Sub_y\n",
      "0   1  Apple  sub1   Winter  sub2\n",
      "1   2   Ball  sub2   Summer  sub4\n",
      "2   3    Cat  sub4  Monsoon  sub3\n",
      "3   4    Dog  sub3   Spring  sub5\n"
     ]
    }
   ],
   "source": [
    "import pandas as pd\n",
    "import numpy as np\n",
    "left=pd.DataFrame({'id':[1,2,3,4],'Name':['Apple','Ball','Cat','Dog'],'Sub':['sub1','sub2','sub4','sub3']})\n",
    "right=pd.DataFrame({'id':[1,2,3,4],'Name':['Winter','Summer','Monsoon','Spring'],'Sub':['sub2','sub4','sub3','sub5']})\n",
    "print(left)\n",
    "print(right)\n",
    "print(pd.merge(left,right,on='id'))"
   ]
  },
  {
   "cell_type": "code",
   "execution_count": null,
   "id": "df9ac4a0",
   "metadata": {},
   "outputs": [],
   "source": []
  }
 ],
 "metadata": {
  "kernelspec": {
   "display_name": "Python 3 (ipykernel)",
   "language": "python",
   "name": "python3"
  },
  "language_info": {
   "codemirror_mode": {
    "name": "ipython",
    "version": 3
   },
   "file_extension": ".py",
   "mimetype": "text/x-python",
   "name": "python",
   "nbconvert_exporter": "python",
   "pygments_lexer": "ipython3",
   "version": "3.11.4"
  }
 },
 "nbformat": 4,
 "nbformat_minor": 5
}
