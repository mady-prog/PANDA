{
  "nbformat": 4,
  "nbformat_minor": 0,
  "metadata": {
    "colab": {
      "provenance": [],
      "authorship_tag": "ABX9TyNy9LhQCTouocRb4QHxpu8o",
      "include_colab_link": true
    },
    "kernelspec": {
      "name": "python3",
      "display_name": "Python 3"
    },
    "language_info": {
      "name": "python"
    }
  },
  "cells": [
    {
      "cell_type": "markdown",
      "metadata": {
        "id": "view-in-github",
        "colab_type": "text"
      },
      "source": [
        "<a href=\"https://colab.research.google.com/github/mady-prog/PANDA/blob/main/Data_wrangling_1%2C2%2C3.ipynb\" target=\"_parent\"><img src=\"https://colab.research.google.com/assets/colab-badge.svg\" alt=\"Open In Colab\"/></a>"
      ]
    },
    {
      "cell_type": "code",
      "execution_count": 8,
      "metadata": {
        "colab": {
          "base_uri": "https://localhost:8080/"
        },
        "id": "ty3MEaQhGyh4",
        "outputId": "cf22e0ab-ffb6-41ac-a8d9-6fcd7a39894e"
      },
      "outputs": [
        {
          "output_type": "stream",
          "name": "stdout",
          "text": [
            "  teams  points  assists  repoints\n",
            "0     A      90       12        56\n",
            "1     B      56       34        43\n",
            "2     C      78       23        55\n",
            "3     D      88       44        12\n",
            "   teams  variable  value\n",
            "0      A    points     90\n",
            "1      B    points     56\n",
            "2      C    points     78\n",
            "3      D    points     88\n",
            "4      A   assists     12\n",
            "5      B   assists     34\n",
            "6      C   assists     23\n",
            "7      D   assists     44\n",
            "8      A  repoints     56\n",
            "9      B  repoints     43\n",
            "10     C  repoints     55\n",
            "11     D  repoints     12\n"
          ]
        }
      ],
      "source": [
        "import pandas as pd\n",
        "df=pd.DataFrame({'teams':['A','B','C','D'],'points':[90,56,78,88],'assists':[12,34,23,44],'repoints':[56,43,55,12]})\n",
        "print(df)\n",
        "df=pd.melt(df,id_vars='teams',value_vars=['points','assists','repoints'])\n",
        "print(df)"
      ]
    },
    {
      "cell_type": "code",
      "source": [
        "d1={\"name\":[\"sai\",\"rishi\",\"thara\"],\"age\":[\"20\",\"21\",\"22\"]}\n",
        "d2={\"name\":[\"yuvi\",\"rithi\",\"sanjay\"],\"age\":[\"20\",\"21\",\"22\"]}\n",
        "df1=pd.DataFrame(d1)\n",
        "print(df1)\n",
        "df2=pd.DataFrame(d2)\n",
        "print(df2)\n",
        "newdf1=(df2.merge(df1,on=\"age\"))\n",
        "newdf2=(df1.merge(df2,on=\"age\"))\n",
        "print(newdf1)\n",
        "print(newdf2)"
      ],
      "metadata": {
        "colab": {
          "base_uri": "https://localhost:8080/"
        },
        "id": "lZUwIwc7Ig-_",
        "outputId": "57ac080a-a6be-43cb-94fb-b47cc93db842"
      },
      "execution_count": 10,
      "outputs": [
        {
          "output_type": "stream",
          "name": "stdout",
          "text": [
            "    name age\n",
            "0    sai  20\n",
            "1  rishi  21\n",
            "2  thara  22\n",
            "     name age\n",
            "0    yuvi  20\n",
            "1   rithi  21\n",
            "2  sanjay  22\n",
            "   name_x age name_y\n",
            "0    yuvi  20    sai\n",
            "1   rithi  21  rishi\n",
            "2  sanjay  22  thara\n",
            "  name_x age  name_y\n",
            "0    sai  20    yuvi\n",
            "1  rishi  21   rithi\n",
            "2  thara  22  sanjay\n"
          ]
        }
      ]
    },
    {
      "cell_type": "code",
      "source": [
        "import pandas as pd\n",
        "d1={\"name\":[\"sai\",\"rishi\",\"thara\"],\"age\":[20,21,22]}\n",
        "d2={\"qualified\":[True,True,False]}"
      ],
      "metadata": {
        "id": "aoi9QrQdLIEQ"
      },
      "execution_count": 11,
      "outputs": []
    },
    {
      "cell_type": "code",
      "source": [
        "import pandas as pd\n",
        "#Assign data\n",
        "data={'Name':['Sai','Yuvasri','Poovannan',\n",
        "'Sabharish','Sangamithra','Rithika','Rubasri'],\n",
        "'Age':[20,18,19,20,18,17,19],\n",
        "'Gender':['M','F','M','M','F','F','F'],\n",
        "'Marks':[90,76,'NaN',74,65,'NaN',71]}\n",
        "#convert into datafram\n",
        "df=pd.DataFrame(data)\n",
        "#display data\n",
        "print(\"Original DataFrame:\\n\",df)\n",
        "#convert average\n",
        "c=avg=0\n",
        "for ele in df['Marks']:\n",
        "  if str(ele).isnumeric():\n",
        "    c+=1\n",
        "avg+=ele\n",
        "avg/=c\n",
        "#Replace missing values\n",
        "df=df.replace(to_replace=\"NaN\",value=avg)\n",
        "#Display data\n",
        "print(\"\\nReplacing NaN with average marks:\\n\",df)\n",
        "\n"
      ],
      "metadata": {
        "colab": {
          "base_uri": "https://localhost:8080/"
        },
        "id": "XPyCPZA3MqlZ",
        "outputId": "bfa8d09d-3890-476d-f2c2-44d894d556bb"
      },
      "execution_count": 13,
      "outputs": [
        {
          "output_type": "stream",
          "name": "stdout",
          "text": [
            "Original DataFrame:\n",
            "           Name  Age Gender Marks\n",
            "0          Sai   20      M    90\n",
            "1      Yuvasri   18      F    76\n",
            "2    Poovannan   19      M   NaN\n",
            "3    Sabharish   20      M    74\n",
            "4  Sangamithra   18      F    65\n",
            "5      Rithika   17      F   NaN\n",
            "6      Rubasri   19      F    71\n",
            "\n",
            "Replacing NaN with average marks:\n",
            "           Name  Age Gender  Marks\n",
            "0          Sai   20      M   90.0\n",
            "1      Yuvasri   18      F   76.0\n",
            "2    Poovannan   19      M   14.2\n",
            "3    Sabharish   20      M   74.0\n",
            "4  Sangamithra   18      F   65.0\n",
            "5      Rithika   17      F   14.2\n",
            "6      Rubasri   19      F   71.0\n"
          ]
        },
        {
          "output_type": "stream",
          "name": "stderr",
          "text": [
            "<ipython-input-13-a455a313b4c2>:20: FutureWarning: Downcasting behavior in `replace` is deprecated and will be removed in a future version. To retain the old behavior, explicitly call `result.infer_objects(copy=False)`. To opt-in to the future behavior, set `pd.set_option('future.no_silent_downcasting', True)`\n",
            "  df=df.replace(to_replace=\"NaN\",value=avg)\n"
          ]
        }
      ]
    },
    {
      "cell_type": "code",
      "source": [
        "#Filter top scoring students\n",
        "df=df[df['Marks']>=75]\n",
        "\n",
        "#Remove age row\n",
        "df=df.drop(['Age'],axis=1)\n",
        "\n",
        "#Display data\n",
        "print(\"\\nFiltering and Dropping func:\\n\",df)"
      ],
      "metadata": {
        "colab": {
          "base_uri": "https://localhost:8080/"
        },
        "id": "hz9pbpywMqn-",
        "outputId": "7bc9e212-448e-4359-c438-782a6885f1ff"
      },
      "execution_count": 14,
      "outputs": [
        {
          "output_type": "stream",
          "name": "stdout",
          "text": [
            "\n",
            "Filtering and Dropping func:\n",
            "       Name Gender  Marks\n",
            "0      Sai      M   90.0\n",
            "1  Yuvasri      F   76.0\n"
          ]
        }
      ]
    },
    {
      "cell_type": "code",
      "source": [
        "one = pd.DataFrame({\n",
        "'Name':['Sai','Sub','Poo','Yuvasri','Rithika'],\n",
        "'subject_id':['sub1','sub2','sub4','sub6','sub5'],\n",
        "'Marks_scored':[98,95,96,92,88]},\n",
        "index=[1,2,3,4,5])\n",
        "two=pd.DataFrame({\n",
        "'Name':['Sanjay','Sangamithra','Rubasri','Nikesh','Somanath'],\n",
        "'subject_id':['sub2','sub4','sub3','sub6','sub5'],\n",
        "'Marks_scored':[86,95,87,99,91]},\n",
        "index=[1,2,3,4,5])\n",
        "print(\"\\nOriginal DataFrame 1:\\n\",one)\n",
        "print(\"\\nOriginal DataFrame 2:\\n\",two)\n",
        "print(pd.concat([one,two]))"
      ],
      "metadata": {
        "colab": {
          "base_uri": "https://localhost:8080/"
        },
        "id": "YWaFzfRfMqsK",
        "outputId": "b978c452-76d4-4356-d9b6-61c4445d0d5f"
      },
      "execution_count": 15,
      "outputs": [
        {
          "output_type": "stream",
          "name": "stdout",
          "text": [
            "\n",
            "Original DataFrame 1:\n",
            "       Name subject_id  Marks_scored\n",
            "1      Sai       sub1            98\n",
            "2      Sub       sub2            95\n",
            "3      Poo       sub4            96\n",
            "4  Yuvasri       sub6            92\n",
            "5  Rithika       sub5            88\n",
            "\n",
            "Original DataFrame 2:\n",
            "           Name subject_id  Marks_scored\n",
            "1       Sanjay       sub2            86\n",
            "2  Sangamithra       sub4            95\n",
            "3      Rubasri       sub3            87\n",
            "4       Nikesh       sub6            99\n",
            "5     Somanath       sub5            91\n",
            "          Name subject_id  Marks_scored\n",
            "1          Sai       sub1            98\n",
            "2          Sub       sub2            95\n",
            "3          Poo       sub4            96\n",
            "4      Yuvasri       sub6            92\n",
            "5      Rithika       sub5            88\n",
            "1       Sanjay       sub2            86\n",
            "2  Sangamithra       sub4            95\n",
            "3      Rubasri       sub3            87\n",
            "4       Nikesh       sub6            99\n",
            "5     Somanath       sub5            91\n"
          ]
        }
      ]
    },
    {
      "cell_type": "code",
      "source": [
        "import pandas as pd\n",
        "car_selling_data ={'Brand':['Maruti','Maruti','Maruti','Maruti','Hyundai','Hyundai','Toyota','Mahindra','Mahindra','Ford','Toyota','Ford'],\n",
        "'Year':[2010, 2011, 2009, 2013, 2010, 2011, 2011, 2010, 2013, 2010, 2010, 2011],\n",
        "'Sold':[6, 7, 9, 8, 3, 5,2, 8, 7, 2, 4, 2]}\n",
        "\n",
        "#Creating DataFrame for provided Data\n",
        "df = pd. DataFrame(car_selling_data)\n",
        "print(\"\\nOriginal DataFrame:\\n\",df)\n",
        "\n",
        "#Group the data when year= 2020\n",
        "grouped = df.groupby('Year')\n",
        "print(\"\\nGroup by year 2010:\\n\",grouped.get_group(2010))"
      ],
      "metadata": {
        "colab": {
          "base_uri": "https://localhost:8080/"
        },
        "id": "JxtYZupEMqug",
        "outputId": "8bc149d2-4c2c-4bf8-d9ed-6ddefc23f5b2"
      },
      "execution_count": 18,
      "outputs": [
        {
          "output_type": "stream",
          "name": "stdout",
          "text": [
            "\n",
            "Original DataFrame:\n",
            "        Brand  Year  Sold\n",
            "0     Maruti  2010     6\n",
            "1     Maruti  2011     7\n",
            "2     Maruti  2009     9\n",
            "3     Maruti  2013     8\n",
            "4    Hyundai  2010     3\n",
            "5    Hyundai  2011     5\n",
            "6     Toyota  2011     2\n",
            "7   Mahindra  2010     8\n",
            "8   Mahindra  2013     7\n",
            "9       Ford  2010     2\n",
            "10    Toyota  2010     4\n",
            "11      Ford  2011     2\n",
            "\n",
            "Group by year 2010:\n",
            "        Brand  Year  Sold\n",
            "0     Maruti  2010     6\n",
            "4    Hyundai  2010     3\n",
            "7   Mahindra  2010     8\n",
            "9       Ford  2010     2\n",
            "10    Toyota  2010     4\n"
          ]
        }
      ]
    },
    {
      "cell_type": "code",
      "source": [
        "#initializing Data\n",
        "student_data = {'Name': ['Amit', 'Praveen', 'Jagadesh','Rahul', 'Vishal', 'Suraj','Rishab', 'Sathish',\n",
        "'Amit','Rahul', 'Praveen', 'Amit'],\n",
        "'Roll_no': [23,54,29,36,23,38,12,45,34,36,54,23],\n",
        "'Email': ['xxxx@gmail.com', 'xxxxxx@gmail.com','xxxxxx@gmail.com','xx@gmail.com',\n",
        "'xxxx@gmail.com', 'xxxxx@gmail.com','xxxxx@gmail.com', 'xxxxx@gmail.com',\n",
        "'xxxxx@gmail.com', 'xxxxxx@gmail.com','xxxxxxxxxx@gmail.com',\n",
        "'xxxxxxxxxx@gmail.com']}\n",
        "\n",
        "#Creating dataframe\n",
        "df=pd.DataFrame(student_data)\n",
        "print(\"\\nOriginal DataFrame:\\n\",df)\n",
        "#Here df.duplicated() list duplicate entrines in rollno.\n",
        "#so that (NOT) is placed in order to get non duplicate values.\n",
        "non_duplicate = df[~df.duplicated('Roll_no')]\n",
        "#printing non duplicate values.\n",
        "\n",
        "print(\"\\nRemoved duplicated rows:\\n\",non_duplicate)"
      ],
      "metadata": {
        "colab": {
          "base_uri": "https://localhost:8080/"
        },
        "id": "BDuNiM-YMqzg",
        "outputId": "356709fa-e41b-4197-c466-4b1456732564"
      },
      "execution_count": 19,
      "outputs": [
        {
          "output_type": "stream",
          "name": "stdout",
          "text": [
            "\n",
            "Original DataFrame:\n",
            "         Name  Roll_no                 Email\n",
            "0       Amit       23        xxxx@gmail.com\n",
            "1    Praveen       54      xxxxxx@gmail.com\n",
            "2   Jagadesh       29      xxxxxx@gmail.com\n",
            "3      Rahul       36          xx@gmail.com\n",
            "4     Vishal       23        xxxx@gmail.com\n",
            "5      Suraj       38       xxxxx@gmail.com\n",
            "6     Rishab       12       xxxxx@gmail.com\n",
            "7    Sathish       45       xxxxx@gmail.com\n",
            "8       Amit       34       xxxxx@gmail.com\n",
            "9      Rahul       36      xxxxxx@gmail.com\n",
            "10   Praveen       54  xxxxxxxxxx@gmail.com\n",
            "11      Amit       23  xxxxxxxxxx@gmail.com\n",
            "\n",
            "Removed duplicated rows:\n",
            "        Name  Roll_no             Email\n",
            "0      Amit       23    xxxx@gmail.com\n",
            "1   Praveen       54  xxxxxx@gmail.com\n",
            "2  Jagadesh       29  xxxxxx@gmail.com\n",
            "3     Rahul       36      xx@gmail.com\n",
            "5     Suraj       38   xxxxx@gmail.com\n",
            "6    Rishab       12   xxxxx@gmail.com\n",
            "7   Sathish       45   xxxxx@gmail.com\n",
            "8      Amit       34   xxxxx@gmail.com\n"
          ]
        }
      ]
    },
    {
      "cell_type": "code",
      "source": [
        "#creating datafram\n",
        "details=pd.DataFrame({'ID':[101, 102, 103, 104, 105, 106, 107, 108, 109, 110],\n",
        "'NAME':['Arun', 'Praveen', 'Harish','Pooja', 'Rahul', 'Naresh','Saurabh','Anush','Dinesh',\n",
        "'Mohit'],\n",
        "\n",
        "'BRANCH':['Mech', 'Mech', 'CSE', 'CSE', 'CSE', 'EEE','EEE', 'ECE', 'ECE', 'IT']})\n",
        "print(\"\\nOriginal DataFrame 1:\\n\", details)\n",
        "#creating datafram\n",
        "fees_status=pd.DataFrame ({'ID': [101, 102, 103, 104, 105, 106, 107, 108, 109, 110],\n",
        "'PENDING': ['5000', '250', 'NIL', '9000', '15000', 'NIL', '4500', '1800', '250', 'NIL']})\n",
        "print(\"\\nOriginal DataFrame:\\n\", fees_status)\n",
        "#mergind dataframe\n",
        "print(\"\\nMerged Dataframe\\n\",pd.merge(details,fees_status,on='ID'))"
      ],
      "metadata": {
        "colab": {
          "base_uri": "https://localhost:8080/"
        },
        "id": "Xfy-8X1sMq2D",
        "outputId": "f081bac3-f274-4299-9229-284fbb90db66"
      },
      "execution_count": 20,
      "outputs": [
        {
          "output_type": "stream",
          "name": "stdout",
          "text": [
            "\n",
            "Original DataFrame 1:\n",
            "     ID     NAME BRANCH\n",
            "0  101     Arun   Mech\n",
            "1  102  Praveen   Mech\n",
            "2  103   Harish    CSE\n",
            "3  104    Pooja    CSE\n",
            "4  105    Rahul    CSE\n",
            "5  106   Naresh    EEE\n",
            "6  107  Saurabh    EEE\n",
            "7  108    Anush    ECE\n",
            "8  109   Dinesh    ECE\n",
            "9  110    Mohit     IT\n",
            "\n",
            "Original DataFrame:\n",
            "     ID PENDING\n",
            "0  101    5000\n",
            "1  102     250\n",
            "2  103     NIL\n",
            "3  104    9000\n",
            "4  105   15000\n",
            "5  106     NIL\n",
            "6  107    4500\n",
            "7  108    1800\n",
            "8  109     250\n",
            "9  110     NIL\n",
            "\n",
            "Merged Dataframe\n",
            "     ID     NAME BRANCH PENDING\n",
            "0  101     Arun   Mech    5000\n",
            "1  102  Praveen   Mech     250\n",
            "2  103   Harish    CSE     NIL\n",
            "3  104    Pooja    CSE    9000\n",
            "4  105    Rahul    CSE   15000\n",
            "5  106   Naresh    EEE     NIL\n",
            "6  107  Saurabh    EEE    4500\n",
            "7  108    Anush    ECE    1800\n",
            "8  109   Dinesh    ECE     250\n",
            "9  110    Mohit     IT     NIL\n"
          ]
        }
      ]
    },
    {
      "cell_type": "code",
      "source": [],
      "metadata": {
        "id": "8T7SmlNgMq4p"
      },
      "execution_count": null,
      "outputs": []
    },
    {
      "cell_type": "code",
      "source": [],
      "metadata": {
        "id": "q2oupJLhMq6_"
      },
      "execution_count": null,
      "outputs": []
    },
    {
      "cell_type": "code",
      "source": [],
      "metadata": {
        "id": "IJwLtarsMq9l"
      },
      "execution_count": null,
      "outputs": []
    },
    {
      "cell_type": "code",
      "source": [
        "import pandas as pd\n",
        "d1={\"name\":[\"sai\",\"sub\",\"poo\"],\"age\":[20,21,22]}\n",
        "d2={\"qualified\":[True,True,False]}\n",
        "df1=pd.DataFrame(d1)\n",
        "print(df1)\n",
        "df2=pd.DataFrame(d2)\n",
        "print(df2)\n",
        "newdf=df1.join(df2)"
      ],
      "metadata": {
        "colab": {
          "base_uri": "https://localhost:8080/"
        },
        "id": "xJsfS7bbKZVW",
        "outputId": "c0fd7f18-ec9c-46b4-e749-75dd724402a1"
      },
      "execution_count": 9,
      "outputs": [
        {
          "output_type": "stream",
          "name": "stdout",
          "text": [
            "  name  age\n",
            "0  sai   20\n",
            "1  sub   21\n",
            "2  poo   22\n",
            "   qualified\n",
            "0       True\n",
            "1       True\n",
            "2      False\n"
          ]
        }
      ]
    }
  ]
}